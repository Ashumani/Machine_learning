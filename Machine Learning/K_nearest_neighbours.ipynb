{
 "cells": [
  {
   "cell_type": "code",
   "execution_count": 25,
   "metadata": {},
   "outputs": [],
   "source": [
    "import pandas as pd\n",
    "import numpy as np\n",
    "import matplotlib.pyplot as plt\n",
    "from sklearn.cross_validation import train_test_split\n",
    "from sklearn.preprocessing import StandardScaler\n",
    "from sklearn.neighbors import KNeighborsClassifier\n",
    "from sklearn.metrics import confusion_matrix"
   ]
  },
  {
   "cell_type": "code",
   "execution_count": 2,
   "metadata": {
    "collapsed": true
   },
   "outputs": [
    {
     "data": {
      "text/html": [
       "<div>\n",
       "<style scoped>\n",
       "    .dataframe tbody tr th:only-of-type {\n",
       "        vertical-align: middle;\n",
       "    }\n",
       "\n",
       "    .dataframe tbody tr th {\n",
       "        vertical-align: top;\n",
       "    }\n",
       "\n",
       "    .dataframe thead th {\n",
       "        text-align: right;\n",
       "    }\n",
       "</style>\n",
       "<table border=\"1\" class=\"dataframe\">\n",
       "  <thead>\n",
       "    <tr style=\"text-align: right;\">\n",
       "      <th></th>\n",
       "      <th>User ID</th>\n",
       "      <th>Gender</th>\n",
       "      <th>Age</th>\n",
       "      <th>EstimatedSalary</th>\n",
       "      <th>Purchased</th>\n",
       "    </tr>\n",
       "  </thead>\n",
       "  <tbody>\n",
       "    <tr>\n",
       "      <th>0</th>\n",
       "      <td>15624510</td>\n",
       "      <td>Male</td>\n",
       "      <td>19</td>\n",
       "      <td>19000</td>\n",
       "      <td>0</td>\n",
       "    </tr>\n",
       "    <tr>\n",
       "      <th>1</th>\n",
       "      <td>15810944</td>\n",
       "      <td>Male</td>\n",
       "      <td>35</td>\n",
       "      <td>20000</td>\n",
       "      <td>0</td>\n",
       "    </tr>\n",
       "    <tr>\n",
       "      <th>2</th>\n",
       "      <td>15668575</td>\n",
       "      <td>Female</td>\n",
       "      <td>26</td>\n",
       "      <td>43000</td>\n",
       "      <td>0</td>\n",
       "    </tr>\n",
       "    <tr>\n",
       "      <th>3</th>\n",
       "      <td>15603246</td>\n",
       "      <td>Female</td>\n",
       "      <td>27</td>\n",
       "      <td>57000</td>\n",
       "      <td>0</td>\n",
       "    </tr>\n",
       "    <tr>\n",
       "      <th>4</th>\n",
       "      <td>15804002</td>\n",
       "      <td>Male</td>\n",
       "      <td>19</td>\n",
       "      <td>76000</td>\n",
       "      <td>0</td>\n",
       "    </tr>\n",
       "    <tr>\n",
       "      <th>5</th>\n",
       "      <td>15728773</td>\n",
       "      <td>Male</td>\n",
       "      <td>27</td>\n",
       "      <td>58000</td>\n",
       "      <td>0</td>\n",
       "    </tr>\n",
       "    <tr>\n",
       "      <th>6</th>\n",
       "      <td>15598044</td>\n",
       "      <td>Female</td>\n",
       "      <td>27</td>\n",
       "      <td>84000</td>\n",
       "      <td>0</td>\n",
       "    </tr>\n",
       "    <tr>\n",
       "      <th>7</th>\n",
       "      <td>15694829</td>\n",
       "      <td>Female</td>\n",
       "      <td>32</td>\n",
       "      <td>150000</td>\n",
       "      <td>1</td>\n",
       "    </tr>\n",
       "    <tr>\n",
       "      <th>8</th>\n",
       "      <td>15600575</td>\n",
       "      <td>Male</td>\n",
       "      <td>25</td>\n",
       "      <td>33000</td>\n",
       "      <td>0</td>\n",
       "    </tr>\n",
       "    <tr>\n",
       "      <th>9</th>\n",
       "      <td>15727311</td>\n",
       "      <td>Female</td>\n",
       "      <td>35</td>\n",
       "      <td>65000</td>\n",
       "      <td>0</td>\n",
       "    </tr>\n",
       "  </tbody>\n",
       "</table>\n",
       "</div>"
      ],
      "text/plain": [
       "    User ID  Gender  Age  EstimatedSalary  Purchased\n",
       "0  15624510    Male   19            19000          0\n",
       "1  15810944    Male   35            20000          0\n",
       "2  15668575  Female   26            43000          0\n",
       "3  15603246  Female   27            57000          0\n",
       "4  15804002    Male   19            76000          0\n",
       "5  15728773    Male   27            58000          0\n",
       "6  15598044  Female   27            84000          0\n",
       "7  15694829  Female   32           150000          1\n",
       "8  15600575    Male   25            33000          0\n",
       "9  15727311  Female   35            65000          0"
      ]
     },
     "execution_count": 2,
     "metadata": {},
     "output_type": "execute_result"
    }
   ],
   "source": [
    "data = pd.read_csv('Ads.csv')\n",
    "data.head(10)"
   ]
  },
  {
   "cell_type": "code",
   "execution_count": 6,
   "metadata": {},
   "outputs": [],
   "source": [
    "real_x = data.iloc[:,[2,3]].values\n",
    "real_y = data.iloc[:,4].values\n"
   ]
  },
  {
   "cell_type": "code",
   "execution_count": 14,
   "metadata": {
    "collapsed": true
   },
   "outputs": [
    {
     "data": {
      "text/plain": [
       "array([[    30,  87000],\n",
       "       [    38,  50000],\n",
       "       [    35,  75000],\n",
       "       [    30,  79000],\n",
       "       [    35,  50000],\n",
       "       [    27,  20000],\n",
       "       [    31,  15000],\n",
       "       [    36, 144000],\n",
       "       [    18,  68000],\n",
       "       [    47,  43000],\n",
       "       [    30,  49000],\n",
       "       [    28,  55000],\n",
       "       [    37,  55000],\n",
       "       [    39,  77000],\n",
       "       [    20,  86000],\n",
       "       [    32, 117000],\n",
       "       [    37,  77000],\n",
       "       [    19,  85000],\n",
       "       [    55, 130000],\n",
       "       [    35,  22000],\n",
       "       [    35,  47000],\n",
       "       [    47, 144000],\n",
       "       [    41,  51000],\n",
       "       [    47, 105000],\n",
       "       [    23,  28000],\n",
       "       [    49, 141000],\n",
       "       [    28,  87000],\n",
       "       [    29,  80000],\n",
       "       [    37,  62000],\n",
       "       [    32,  86000],\n",
       "       [    21,  88000],\n",
       "       [    37,  79000],\n",
       "       [    57,  60000],\n",
       "       [    37,  53000],\n",
       "       [    24,  58000],\n",
       "       [    18,  52000],\n",
       "       [    22,  81000],\n",
       "       [    34,  43000],\n",
       "       [    31,  34000],\n",
       "       [    49,  36000],\n",
       "       [    27,  88000],\n",
       "       [    41,  52000],\n",
       "       [    27,  84000],\n",
       "       [    35,  20000],\n",
       "       [    43, 112000],\n",
       "       [    27,  58000],\n",
       "       [    37,  80000],\n",
       "       [    52,  90000],\n",
       "       [    26,  30000],\n",
       "       [    49,  86000],\n",
       "       [    57, 122000],\n",
       "       [    34,  25000],\n",
       "       [    35,  57000],\n",
       "       [    34, 115000],\n",
       "       [    59,  88000],\n",
       "       [    45,  32000],\n",
       "       [    29,  83000],\n",
       "       [    26,  80000],\n",
       "       [    49,  28000],\n",
       "       [    23,  20000],\n",
       "       [    32,  18000],\n",
       "       [    60,  42000],\n",
       "       [    19,  76000],\n",
       "       [    36,  99000],\n",
       "       [    19,  26000],\n",
       "       [    60,  83000],\n",
       "       [    24,  89000],\n",
       "       [    27,  58000],\n",
       "       [    40,  47000],\n",
       "       [    42,  70000],\n",
       "       [    32, 150000],\n",
       "       [    35,  77000],\n",
       "       [    22,  63000],\n",
       "       [    45,  22000],\n",
       "       [    27,  89000],\n",
       "       [    18,  82000],\n",
       "       [    42,  79000],\n",
       "       [    40,  60000],\n",
       "       [    53,  34000],\n",
       "       [    47, 107000],\n",
       "       [    58, 144000],\n",
       "       [    59,  83000],\n",
       "       [    24,  55000],\n",
       "       [    26,  35000],\n",
       "       [    58,  38000],\n",
       "       [    42,  80000],\n",
       "       [    40,  75000],\n",
       "       [    59, 130000],\n",
       "       [    46,  41000],\n",
       "       [    41,  60000],\n",
       "       [    42,  64000],\n",
       "       [    37, 146000],\n",
       "       [    23,  48000],\n",
       "       [    25,  33000],\n",
       "       [    24,  84000],\n",
       "       [    27,  96000],\n",
       "       [    23,  63000],\n",
       "       [    48,  33000],\n",
       "       [    48,  90000],\n",
       "       [    42, 104000]], dtype=int64)"
      ]
     },
     "execution_count": 14,
     "metadata": {},
     "output_type": "execute_result"
    }
   ],
   "source": [
    "training_x, test_x, training_y, test_y = train_test_split(real_x,real_y, test_size=0.25, random_state=0)\n",
    "test_x"
   ]
  },
  {
   "cell_type": "code",
   "execution_count": 19,
   "metadata": {
    "collapsed": true
   },
   "outputs": [
    {
     "data": {
      "text/plain": [
       "array([[-0.54748976,  0.5130727 ],\n",
       "       [ 0.15442019, -0.61825566],\n",
       "       [-0.10879604,  0.14615539],\n",
       "       [-0.54748976,  0.26846116],\n",
       "       [-0.10879604, -0.61825566],\n",
       "       [-0.81070599, -1.53554892],\n",
       "       [-0.45975102, -1.68843113],\n",
       "       [-0.0210573 ,  2.25592989],\n",
       "       [-1.60035469, -0.0678797 ],\n",
       "       [ 0.94406888, -0.83229075],\n",
       "       [-0.54748976, -0.6488321 ],\n",
       "       [-0.72296725, -0.46537345],\n",
       "       [ 0.06668145, -0.46537345],\n",
       "       [ 0.24215893,  0.20730828],\n",
       "       [-1.4248772 ,  0.48249625],\n",
       "       [-0.37201227,  1.43036596],\n",
       "       [ 0.06668145,  0.20730828],\n",
       "       [-1.51261594,  0.45191981],\n",
       "       [ 1.64597884,  1.8278597 ],\n",
       "       [-0.10879604, -1.47439603],\n",
       "       [-0.10879604, -0.70998498],\n",
       "       [ 0.94406888,  2.25592989],\n",
       "       [ 0.41763642, -0.58767922],\n",
       "       [ 0.94406888,  1.06344865],\n",
       "       [-1.16166097, -1.29093738],\n",
       "       [ 1.11954637,  2.16420057],\n",
       "       [-0.72296725,  0.5130727 ],\n",
       "       [-0.63522851,  0.2990376 ],\n",
       "       [ 0.06668145, -0.25133835],\n",
       "       [-0.37201227,  0.48249625],\n",
       "       [-1.33713846,  0.54364914],\n",
       "       [ 0.06668145,  0.26846116],\n",
       "       [ 1.82145632, -0.31249124],\n",
       "       [ 0.06668145, -0.52652633],\n",
       "       [-1.07392223, -0.37364412],\n",
       "       [-1.60035469, -0.55710277],\n",
       "       [-1.24939971,  0.32961404],\n",
       "       [-0.19653479, -0.83229075],\n",
       "       [-0.45975102, -1.10747873],\n",
       "       [ 1.11954637, -1.04632585],\n",
       "       [-0.81070599,  0.54364914],\n",
       "       [ 0.41763642, -0.55710277],\n",
       "       [-0.81070599,  0.42134337],\n",
       "       [-0.10879604, -1.53554892],\n",
       "       [ 0.59311391,  1.27748375],\n",
       "       [-0.81070599, -0.37364412],\n",
       "       [ 0.06668145,  0.2990376 ],\n",
       "       [ 1.3827626 ,  0.60480202],\n",
       "       [-0.89844474, -1.2297845 ],\n",
       "       [ 1.11954637,  0.48249625],\n",
       "       [ 1.82145632,  1.58324817],\n",
       "       [-0.19653479, -1.38266671],\n",
       "       [-0.10879604, -0.40422056],\n",
       "       [-0.19653479,  1.36921307],\n",
       "       [ 1.99693381,  0.54364914],\n",
       "       [ 0.7685914 , -1.16863161],\n",
       "       [-0.63522851,  0.39076693],\n",
       "       [-0.89844474,  0.2990376 ],\n",
       "       [ 1.11954637, -1.29093738],\n",
       "       [-1.16166097, -1.53554892],\n",
       "       [-0.37201227, -1.5967018 ],\n",
       "       [ 2.08467255, -0.86286719],\n",
       "       [-1.51261594,  0.17673183],\n",
       "       [-0.0210573 ,  0.87999   ],\n",
       "       [-1.51261594, -1.35209027],\n",
       "       [ 2.08467255,  0.39076693],\n",
       "       [-1.07392223,  0.57422558],\n",
       "       [-0.81070599, -0.37364412],\n",
       "       [ 0.32989768, -0.70998498],\n",
       "       [ 0.50537516, -0.00672682],\n",
       "       [-0.37201227,  2.43938854],\n",
       "       [-0.10879604,  0.20730828],\n",
       "       [-1.24939971, -0.22076191],\n",
       "       [ 0.7685914 , -1.47439603],\n",
       "       [-0.81070599,  0.57422558],\n",
       "       [-1.60035469,  0.36019049],\n",
       "       [ 0.50537516,  0.26846116],\n",
       "       [ 0.32989768, -0.31249124],\n",
       "       [ 1.47050135, -1.10747873],\n",
       "       [ 0.94406888,  1.12460154],\n",
       "       [ 1.90919507,  2.25592989],\n",
       "       [ 1.99693381,  0.39076693],\n",
       "       [-1.07392223, -0.46537345],\n",
       "       [-0.89844474, -1.07690229],\n",
       "       [ 1.90919507, -0.98517296],\n",
       "       [ 0.50537516,  0.2990376 ],\n",
       "       [ 0.32989768,  0.14615539],\n",
       "       [ 1.99693381,  1.8278597 ],\n",
       "       [ 0.85633014, -0.89344364],\n",
       "       [ 0.41763642, -0.31249124],\n",
       "       [ 0.50537516, -0.19018547],\n",
       "       [ 0.06668145,  2.31708278],\n",
       "       [-1.16166097, -0.67940854],\n",
       "       [-0.98618348, -1.13805517],\n",
       "       [-1.07392223,  0.42134337],\n",
       "       [-0.81070599,  0.78826068],\n",
       "       [-1.16166097, -0.22076191],\n",
       "       [ 1.03180763, -1.13805517],\n",
       "       [ 1.03180763,  0.60480202],\n",
       "       [ 0.50537516,  1.03287221]])"
      ]
     },
     "execution_count": 19,
     "metadata": {},
     "output_type": "execute_result"
    }
   ],
   "source": [
    "s_c = StandardScaler()\n",
    "training_x = s_c.fit_transform(training_x)\n",
    "test_x = s_c.fit_transform(test_x)\n",
    "test_x"
   ]
  },
  {
   "cell_type": "code",
   "execution_count": 22,
   "metadata": {},
   "outputs": [
    {
     "data": {
      "text/plain": [
       "KNeighborsClassifier(algorithm='auto', leaf_size=30, metric='minkowski',\n",
       "           metric_params=None, n_jobs=1, n_neighbors=5, p=2,\n",
       "           weights='uniform')"
      ]
     },
     "execution_count": 22,
     "metadata": {},
     "output_type": "execute_result"
    }
   ],
   "source": [
    "cls = KNeighborsClassifier(n_neighbors=5, metric='minkowski', p=2)\n",
    "cls.fit(training_x,training_y)"
   ]
  },
  {
   "cell_type": "code",
   "execution_count": 23,
   "metadata": {},
   "outputs": [
    {
     "data": {
      "text/plain": [
       "array([0, 0, 0, 0, 0, 0, 0, 1, 0, 1, 0, 0, 0, 0, 0, 1, 0, 0, 1, 0, 0, 1,\n",
       "       0, 1, 0, 1, 0, 0, 0, 0, 0, 0, 1, 0, 0, 0, 0, 0, 0, 1, 0, 0, 0, 0,\n",
       "       1, 0, 0, 1, 0, 1, 1, 0, 0, 1, 1, 1, 0, 0, 1, 0, 0, 1, 0, 1, 0, 1,\n",
       "       0, 0, 0, 0, 1, 0, 0, 1, 0, 0, 0, 0, 1, 1, 1, 1, 0, 0, 1, 0, 0, 1,\n",
       "       1, 0, 0, 1, 0, 0, 0, 0, 0, 1, 1, 1], dtype=int64)"
      ]
     },
     "execution_count": 23,
     "metadata": {},
     "output_type": "execute_result"
    }
   ],
   "source": [
    "y_pred = cls.predict(test_x)\n",
    "y_pred"
   ]
  },
  {
   "cell_type": "code",
   "execution_count": 24,
   "metadata": {},
   "outputs": [
    {
     "data": {
      "text/plain": [
       "array([0, 0, 0, 0, 0, 0, 0, 1, 0, 0, 0, 0, 0, 0, 0, 0, 0, 0, 1, 0, 0, 1,\n",
       "       0, 1, 0, 1, 0, 0, 0, 0, 0, 1, 1, 0, 0, 0, 0, 0, 0, 1, 0, 0, 0, 0,\n",
       "       1, 0, 0, 1, 0, 1, 1, 0, 0, 0, 1, 1, 0, 0, 1, 0, 0, 1, 0, 1, 0, 1,\n",
       "       0, 0, 0, 0, 1, 0, 0, 1, 0, 0, 0, 0, 1, 1, 1, 0, 0, 0, 1, 1, 0, 1,\n",
       "       1, 0, 0, 1, 0, 0, 0, 1, 0, 1, 1, 1], dtype=int64)"
      ]
     },
     "execution_count": 24,
     "metadata": {},
     "output_type": "execute_result"
    }
   ],
   "source": [
    "test_y"
   ]
  },
  {
   "cell_type": "code",
   "execution_count": 26,
   "metadata": {},
   "outputs": [
    {
     "data": {
      "text/plain": [
       "array([[64,  4],\n",
       "       [ 3, 29]], dtype=int64)"
      ]
     },
     "execution_count": 26,
     "metadata": {},
     "output_type": "execute_result"
    }
   ],
   "source": [
    "c_m = confusion_matrix(test_y, y_pred)\n",
    "c_m\n"
   ]
  },
  {
   "cell_type": "code",
   "execution_count": 30,
   "metadata": {},
   "outputs": [
    {
     "data": {
      "image/png": "[encoded data removed]",
      "text/plain": [
       "<Figure size 432x288 with 1 Axes>"
      ]
     },
     "metadata": {},
     "output_type": "display_data"
    }
   ],
   "source": [
    "from matplotlib.colors import ListedColormap\n",
    "X_set, y_set = training_x, training_y\n",
    "X1, X2 = np.meshgrid(np.arange(start = X_set[:,0].min() - 1, stop =X_set[:,0].max() + 1, step = 0.01 ),\n",
    "                     np.arange(start = X_set[:,1].min() - 1, stop =X_set[:,1].max() + 1, step = 0.01))\n",
    "plt.contourf(X1, X2, cls.predict(np.array([X1.ravel(), X2.ravel()]).T).reshape(X1.shape),\n",
    "                alpha = 0.75, cmap = ListedColormap(('red','green')))\n",
    "plt.xlim(X1.min(), X1.max())\n",
    "plt.ylim(X2.min(), X2.max())\n",
    "for i, j in enumerate(np.unique(y_set)):\n",
    "    plt.scatter(X_set[y_set==j, 0], X_set[y_set == j, 1],\n",
    "               c = ListedColormap(('red','green',))(i),label = j)\n",
    "plt.title('KNN (Training set)')\n",
    "plt.xlabel('Age')\n",
    "plt.ylabel('Estimated Salary')\n",
    "plt.legend()\n",
    "plt.show()"
   ]
  },
  {
   "cell_type": "code",
   "execution_count": 31,
   "metadata": {},
   "outputs": [
    {
     "data": {
      "image/png": "[encoded data removed]",
      "text/plain": [
       "<Figure size 432x288 with 1 Axes>"
      ]
     },
     "metadata": {},
     "output_type": "display_data"
    }
   ],
   "source": [
    "X_set, y_set = test_x, test_y\n",
    "X1, X2 = np.meshgrid(np.arange(start = X_set[:,0].min() - 1, stop =X_set[:,0].max() + 1, step = 0.01 ),\n",
    "                     np.arange(start = X_set[:,1].min() - 1, stop =X_set[:,1].max() + 1, step = 0.01))\n",
    "plt.contourf(X1, X2, cls.predict(np.array([X1.ravel(), X2.ravel()]).T).reshape(X1.shape),\n",
    "                alpha = 0.75, cmap = ListedColormap(('red','green')))\n",
    "plt.xlim(X1.min(), X1.max())\n",
    "plt.ylim(X2.min(), X2.max())\n",
    "for i, j in enumerate(np.unique(y_set)):\n",
    "    plt.scatter(X_set[y_set==j, 0], X_set[y_set == j, 1],\n",
    "               c = ListedColormap(('red','green',))(i),label = j)\n",
    "plt.title('KNN (Testing set)')\n",
    "plt.xlabel('Age')\n",
    "plt.ylabel('Estimated Salary')\n",
    "plt.legend()\n",
    "plt.show()"
   ]
  },
  {
   "cell_type": "code",
   "execution_count": null,
   "metadata": {},
   "outputs": [],
   "source": []
  }
 ],
 "metadata": {
  "kernelspec": {
   "display_name": "Python 3",
   "language": "python",
   "name": "python3"
  },
  "language_info": {
   "codemirror_mode": {
    "name": "ipython",
    "version": 3
   },
   "file_extension": ".py",
   "mimetype": "text/x-python",
   "name": "python",
   "nbconvert_exporter": "python",
   "pygments_lexer": "ipython3",
   "version": "3.6.5"
  }
 },
 "nbformat": 4,
 "nbformat_minor": 2
}
